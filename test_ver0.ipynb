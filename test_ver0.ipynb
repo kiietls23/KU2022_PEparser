{
 "cells": [
  {
   "cell_type": "code",
   "execution_count": 13,
   "id": "fd4b6208",
   "metadata": {},
   "outputs": [
    {
     "name": "stdout",
     "output_type": "stream",
     "text": [
      "분석할 파일 경로를 입력>>C:\\Users\\User\\OneDrive\\바탕 화면\\시스템보안\\CRACKME1.exe\n"
     ]
    },
    {
     "name": "stderr",
     "output_type": "stream",
     "text": [
      ".\n",
      "----------------------------------------------------------------------\n",
      "Ran 1 test in 1.926s\n",
      "\n",
      "OK\n"
     ]
    },
    {
     "name": "stdout",
     "output_type": "stream",
     "text": [
      "\n",
      "Name                          | Offset    | RAW       | Value     \n",
      "------------------------------| ----------| ----------| ----------\n",
      "e_magic                       | 0x0       | 0x0       | 0x5a4d    \n",
      "e_cblp                        | 0x2       | 0x2       | 0x50      \n",
      "e_cp                          | 0x4       | 0x4       | 0x2       \n",
      "e_crlc                        | 0x6       | 0x6       | 0x0       \n",
      "e_cparhdr                     | 0x8       | 0x8       | 0x4       \n",
      "e_minalloc                    | 0xa       | 0xa       | 0xf       \n",
      "e_maxalloc                    | 0xc       | 0xc       | 0xffff    \n",
      "e_ss                          | 0xe       | 0xe       | 0x0       \n",
      "e_sp                          | 0x10      | 0x10      | 0xb8      \n",
      "e_csum                        | 0x12      | 0x12      | 0x0       \n",
      "e_ip                          | 0x14      | 0x14      | 0x0       \n",
      "e_cs                          | 0x16      | 0x16      | 0x0       \n",
      "e_lfarlc                      | 0x18      | 0x18      | 0x40      \n",
      "e_ovno                        | 0x1a      | 0x1a      | 0x1a      \n",
      "e_res                         | 0x1c      | 0x1c      | \\x00\\x00\\x00\\x00\\x00\\x00\\x00\\x00\n",
      "e_oemid                       | 0x24      | 0x24      | 0x0       \n",
      "e_oeminfo                     | 0x26      | 0x26      | 0x0       \n",
      "e_res2                        | 0x28      | 0x28      | \\x00\\x00\\x00\\x00\\x00\\x00\\x00\\x00\\x00\\x00\\x00\\x00\\x00\\x00\\x00\\x00\\x00\\x00\\x00\\x00\n",
      "e_lfanew                      | 0x3c      | 0x3c      | 0x100     \n",
      "\n",
      "Name                          | Offset    | RAW       | Value     \n",
      "------------------------------| ----------| ----------| ----------\n",
      "Signature                     | 0x0       | 0x100     | 0x4550    \n",
      "\n",
      "Name                          | Offset    | RAW       | Value     \n",
      "------------------------------| ----------| ----------| ----------\n",
      "Machine                       | 0x0       | 0x104     | 0x14c     \n",
      "NumberOfSections              | 0x2       | 0x106     | 0x6       \n",
      "TimeDateStamp                 | 0x4       | 0x108     | 0xAD92429  [Wed Oct  8 12:18:49 1975 UTC]\n",
      "PointerToSymbolTable          | 0x8       | 0x10c     | 0x0       \n",
      "NumberOfSymbols               | 0xc       | 0x110     | 0x0       \n",
      "SizeOfOptionalHeader          | 0x10      | 0x114     | 0xe0      \n",
      "Characteristics               | 0x12      | 0x116     | 0x818e    \n",
      "\n",
      "Name                          | Offset    | RAW       | Value     \n",
      "------------------------------| ----------| ----------| ----------\n",
      "Magic                         | 0x0       | 0x118     | 0x10b     \n",
      "MajorLinkerVersion            | 0x2       | 0x11a     | 0x2       \n",
      "MinorLinkerVersion            | 0x3       | 0x11b     | 0x19      \n",
      "SizeOfCode                    | 0x4       | 0x11c     | 0x600     \n",
      "SizeOfInitializedData         | 0x8       | 0x120     | 0x2200    \n",
      "SizeOfUninitializedData       | 0xc       | 0x124     | 0x0       \n",
      "AddressOfEntryPoint           | 0x10      | 0x128     | 0x1000    \n",
      "BaseOfCode                    | 0x14      | 0x12c     | 0x1000    \n",
      "BaseOfData                    | 0x18      | 0x130     | 0x2000    \n",
      "ImageBase                     | 0x1c      | 0x134     | 0x400000  \n",
      "SectionAlignment              | 0x20      | 0x138     | 0x1000    \n",
      "FileAlignment                 | 0x24      | 0x13c     | 0x200     \n",
      "MajorOperatingSystemVersion   | 0x28      | 0x140     | 0x1       \n",
      "MinorOperatingSystemVersion   | 0x2a      | 0x142     | 0x0       \n",
      "MajorImageVersion             | 0x2c      | 0x144     | 0x0       \n",
      "MinorImageVersion             | 0x2e      | 0x146     | 0x0       \n",
      "MajorSubsystemVersion         | 0x30      | 0x148     | 0x3       \n",
      "MinorSubsystemVersion         | 0x32      | 0x14a     | 0xa       \n",
      "Reserved1                     | 0x34      | 0x14c     | 0x0       \n",
      "SizeOfImage                   | 0x38      | 0x150     | 0x8000    \n",
      "SizeOfHeaders                 | 0x3c      | 0x154     | 0x400     \n",
      "CheckSum                      | 0x40      | 0x158     | 0x0       \n",
      "Subsystem                     | 0x44      | 0x15c     | 0x2       \n",
      "DllCharacteristics            | 0x46      | 0x15e     | 0x0       \n",
      "SizeOfStackReserve            | 0x48      | 0x160     | 0x100000  \n",
      "SizeOfStackCommit             | 0x4c      | 0x164     | 0x2000    \n",
      "SizeOfHeapReserve             | 0x50      | 0x168     | 0x100000  \n",
      "SizeOfHeapCommit              | 0x54      | 0x16c     | 0x1000    \n",
      "LoaderFlags                   | 0x58      | 0x170     | 0x0       \n",
      "NumberOfRvaAndSizes           | 0x5c      | 0x174     | 0x10      \n",
      "\n"
     ]
    }
   ],
   "source": [
    "import unittest\n",
    "import pefile\n",
    "import ver001\n",
    "\n",
    "class ver0Test(unittest.TestCase):\n",
    "        def test_print_info(self):\n",
    "            path = input(\"분석할 파일 경로를 입력>>\")\n",
    "            print()\n",
    "            pe = pefile.PE(path)\n",
    "            hinfo = [pe.DOS_HEADER.dump_dict(), pe.NT_HEADERS.dump_dict(), pe.FILE_HEADER.dump_dict(), pe.OPTIONAL_HEADER.dump_dict()]\n",
    "\n",
    "            for h in hinfo:\n",
    "                ver001.print_info(h)\n",
    "\n",
    "if __name__ =='__main__':\n",
    "    unittest.main(argv=['first-arg-is-ignored'],exit=False)"
   ]
  },
  {
   "cell_type": "code",
   "execution_count": null,
   "id": "04e2dbb6",
   "metadata": {},
   "outputs": [],
   "source": []
  },
  {
   "cell_type": "code",
   "execution_count": null,
   "id": "367682f6",
   "metadata": {},
   "outputs": [],
   "source": []
  }
 ],
 "metadata": {
  "kernelspec": {
   "display_name": "Python 3 (ipykernel)",
   "language": "python",
   "name": "python3"
  },
  "language_info": {
   "codemirror_mode": {
    "name": "ipython",
    "version": 3
   },
   "file_extension": ".py",
   "mimetype": "text/x-python",
   "name": "python",
   "nbconvert_exporter": "python",
   "pygments_lexer": "ipython3",
   "version": "3.9.12"
  }
 },
 "nbformat": 4,
 "nbformat_minor": 5
}
